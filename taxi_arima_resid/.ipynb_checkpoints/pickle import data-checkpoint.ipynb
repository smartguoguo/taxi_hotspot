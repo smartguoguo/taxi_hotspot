{
 "cells": [
  {
   "cell_type": "code",
   "execution_count": 17,
   "metadata": {},
   "outputs": [],
   "source": [
    "import pickle\n",
    "%matplotlib inline\n",
    "import numpy as np\n",
    "import pandas as pd\n",
    "from pandas import Series\n",
    "from pandas import DataFrame\n",
    "import statsmodels.api as sm\n",
    "import matplotlib.pyplot as plt\n",
    "from statsmodels.tsa.stattools import adfuller  #ADF check stationality\n",
    "from statsmodels.tsa.seasonal import seasonal_decompose # fenjie\n",
    "from statsmodels.graphics.tsaplots import plot_pacf,plot_acf\n",
    "from statsmodels.tsa.arima_model import ARIMA  # 导入ARIMA模型\n",
    "from statsmodels.tsa.api import SARIMAX\n",
    "from pandas.core import datetools\n",
    "from sklearn import svm"
   ]
  },
  {
   "cell_type": "code",
   "execution_count": 18,
   "metadata": {},
   "outputs": [],
   "source": [
    "f = open('ts_mat_05.data', 'rb')"
   ]
  },
  {
   "cell_type": "code",
   "execution_count": 19,
   "metadata": {},
   "outputs": [],
   "source": [
    "ts_mat = pickle.load(f) #  31 * 20 list\n",
    "va_df_05 = DataFrame(np.array(ts_mat).reshape(744, 1))"
   ]
  },
  {
   "cell_type": "code",
   "execution_count": 20,
   "metadata": {},
   "outputs": [],
   "source": [
    "\n",
    "# add dates index\n",
    "nobs_05 = 744\n",
    "##dates = sm.tsa.datetools.dates_from_range('1990m1d1', length = nobs)\n",
    "##va_ts = va_df.reindex(dates)\n",
    "#va_df.index = pd.Index(sm.tsa.datetools.dates_from_range('1701', '2420'))\n",
    "va_df_05.index = pd.Index(sm.tsa.datetools.dates_from_range('1701m1', length=nobs_05))\n",
    "va_df_05.columns = ['PUQ']"
   ]
  },
  {
   "cell_type": "code",
   "execution_count": null,
   "metadata": {},
   "outputs": [],
   "source": []
  }
 ],
 "metadata": {
  "kernelspec": {
   "display_name": "Python 3",
   "language": "python",
   "name": "python3"
  },
  "language_info": {
   "codemirror_mode": {
    "name": "ipython",
    "version": 3
   },
   "file_extension": ".py",
   "mimetype": "text/x-python",
   "name": "python",
   "nbconvert_exporter": "python",
   "pygments_lexer": "ipython3",
   "version": "3.6.4"
  }
 },
 "nbformat": 4,
 "nbformat_minor": 2
}
